{
  "nbformat": 4,
  "nbformat_minor": 0,
  "metadata": {
    "colab": {
      "provenance": []
    },
    "kernelspec": {
      "name": "python3",
      "display_name": "Python 3"
    },
    "language_info": {
      "name": "python"
    }
  },
  "cells": [
    {
      "cell_type": "code",
      "execution_count": null,
      "metadata": {
        "colab": {
          "base_uri": "https://localhost:8080/"
        },
        "id": "BF909GA569So",
        "outputId": "98708740-d472-42c4-f6e1-7ea42f8586c3"
      },
      "outputs": [
        {
          "output_type": "execute_result",
          "data": {
            "text/plain": [
              "6"
            ]
          },
          "metadata": {},
          "execution_count": 19
        }
      ],
      "source": [
        "def factorial(n):\n",
        "  if n>1:\n",
        "    return n*factorial(n-1)\n",
        "  else:\n",
        "    return 1\n",
        "\n",
        "factorial(3)"
      ]
    },
    {
      "cell_type": "code",
      "source": [
        "def fibonacci(n):\n",
        "  if n == 0:\n",
        "    return 0\n",
        "  elif n == 1:\n",
        "    return 1\n",
        "  else:\n",
        "    return fibonacci(n-1) + fibonacci(n-2)\n",
        "\n",
        "fibonacci(6)"
      ],
      "metadata": {
        "colab": {
          "base_uri": "https://localhost:8080/"
        },
        "id": "IlYbYcUO-AM-",
        "outputId": "a85eae5d-4ca2-4b91-d799-fc3c7744fa06"
      },
      "execution_count": null,
      "outputs": [
        {
          "output_type": "execute_result",
          "data": {
            "text/plain": [
              "8"
            ]
          },
          "metadata": {},
          "execution_count": 20
        }
      ]
    },
    {
      "cell_type": "code",
      "source": [
        "def array(l):\n",
        "  if len(l) == 1:\n",
        "    return l[0]\n",
        "  else:\n",
        "    print(l[0])\n",
        "    return array(l[1:])\n",
        "\n",
        "l = [1, 2, 3, 4]\n",
        "array(l)"
      ],
      "metadata": {
        "colab": {
          "base_uri": "https://localhost:8080/"
        },
        "id": "C8U5OE5rM4WB",
        "outputId": "9db27070-5bc1-40ce-ef4f-145965c3ac7c"
      },
      "execution_count": null,
      "outputs": [
        {
          "output_type": "stream",
          "name": "stdout",
          "text": [
            "1\n",
            "2\n",
            "3\n"
          ]
        },
        {
          "output_type": "execute_result",
          "data": {
            "text/plain": [
              "4"
            ]
          },
          "metadata": {},
          "execution_count": 21
        }
      ]
    },
    {
      "cell_type": "code",
      "source": [
        "def powerN(num, n):\n",
        "  if n == 0:\n",
        "    return 1\n",
        "  else:\n",
        "    return num*powerN(num, n-1)\n",
        "\n",
        "powerN(3,3)"
      ],
      "metadata": {
        "colab": {
          "base_uri": "https://localhost:8080/"
        },
        "id": "TFVoJ1WEUyIi",
        "outputId": "39d0777f-45b8-4a86-be8d-a0fff0b4ec26"
      },
      "execution_count": null,
      "outputs": [
        {
          "output_type": "execute_result",
          "data": {
            "text/plain": [
              "27"
            ]
          },
          "metadata": {},
          "execution_count": 22
        }
      ]
    },
    {
      "cell_type": "code",
      "source": [
        "def dectobin(n):\n",
        "  if n == 0:\n",
        "    return 0\n",
        "  else:\n",
        "    return (n%2)+10*dectobin(int(n/2))\n",
        "\n",
        "dectobin(13)"
      ],
      "metadata": {
        "colab": {
          "base_uri": "https://localhost:8080/"
        },
        "id": "UeIvpLTCDZUF",
        "outputId": "191e269a-35fa-4863-d32f-8f51cc5bf066"
      },
      "execution_count": null,
      "outputs": [
        {
          "output_type": "execute_result",
          "data": {
            "text/plain": [
              "1101"
            ]
          },
          "metadata": {},
          "execution_count": 27
        }
      ]
    },
    {
      "cell_type": "code",
      "source": [
        "class Node:\n",
        "  def __init__(self, elem, next):\n",
        "    self.elem = elem\n",
        "    self.next = next\n",
        "\n",
        "  def show(self):\n",
        "    print(self.elem, \"----\", self.next)\n",
        "\n",
        "e = Node(5, None)\n",
        "d = Node(4, e)\n",
        "c = Node(3, d)\n",
        "b = Node(2, c)\n",
        "a = Node(1, b)\n",
        "\n",
        "def add(h):\n",
        "  if h.next == None:\n",
        "    return h.elem\n",
        "  else:\n",
        "    return h.elem+add(h.next)\n",
        "\n",
        "def reverse(h):\n",
        "  if h is not None:\n",
        "    reverse(h.next)\n",
        "    print(h.elem)\n",
        "\n",
        "add(a)\n",
        "reverse(a)"
      ],
      "metadata": {
        "colab": {
          "base_uri": "https://localhost:8080/"
        },
        "id": "uZLxlUBPnnJg",
        "outputId": "2aacb39f-e985-41c3-c9d4-2240b4614132"
      },
      "execution_count": null,
      "outputs": [
        {
          "output_type": "stream",
          "name": "stdout",
          "text": [
            "5\n",
            "4\n",
            "3\n",
            "2\n",
            "1\n"
          ]
        }
      ]
    },
    {
      "cell_type": "code",
      "source": [
        "def hocBuilder(height):\n",
        "  if height>1:\n",
        "    return 5+hocBuilder(height-1)\n",
        "  else:\n",
        "    return 8\n",
        "\n",
        "hocBuilder(2)"
      ],
      "metadata": {
        "colab": {
          "base_uri": "https://localhost:8080/"
        },
        "id": "riB5tkPO13jq",
        "outputId": "9c46cd75-6a9c-4064-c2f0-8f89f3a7bcea"
      },
      "execution_count": null,
      "outputs": [
        {
          "output_type": "execute_result",
          "data": {
            "text/plain": [
              "13"
            ]
          },
          "metadata": {},
          "execution_count": 7
        }
      ]
    },
    {
      "cell_type": "code",
      "source": [
        "def tri(n):\n",
        "  if n != 0:\n",
        "    tri(n-1)\n",
        "    for i in range(n):\n",
        "      print(i+1, end='')\n",
        "    print(\"\")\n",
        "\n",
        "tri(5)"
      ],
      "metadata": {
        "colab": {
          "base_uri": "https://localhost:8080/"
        },
        "id": "c570nWLO24BO",
        "outputId": "cbad59ef-8f0d-4bbf-ba54-268408298db7"
      },
      "execution_count": null,
      "outputs": [
        {
          "output_type": "stream",
          "name": "stdout",
          "text": [
            "1\n",
            "12\n",
            "123\n",
            "1234\n",
            "12345\n"
          ]
        }
      ]
    },
    {
      "cell_type": "code",
      "source": [
        "def rightTri(n, num):\n",
        "  if n != 0:\n",
        "    for i in range(n-1):\n",
        "      print(\" \", end=\"\")\n",
        "    for j in range(num-(n-1)):\n",
        "      print(j+1, end=\"\")\n",
        "    print(\"\")\n",
        "    rightTri(n-1, num)\n",
        "\n",
        "n = 5\n",
        "rightTri(n, n)"
      ],
      "metadata": {
        "colab": {
          "base_uri": "https://localhost:8080/"
        },
        "id": "ZzU6Mk7p_Ape",
        "outputId": "d2c18c57-c625-44ff-c12f-612910d32bb1"
      },
      "execution_count": null,
      "outputs": [
        {
          "output_type": "stream",
          "name": "stdout",
          "text": [
            "    1\n",
            "   12\n",
            "  123\n",
            " 1234\n",
            "12345\n"
          ]
        }
      ]
    },
    {
      "cell_type": "code",
      "source": [
        "import sys\n",
        "sys.setrecursionlimit(10000)\n",
        "\n",
        "class FinalQ:\n",
        "  def print(self,array,idx):\n",
        "    if(idx<len(array)):\n",
        "      profit = self.calcProfit(array[idx])\n",
        "    \n",
        "      print(\"Investment:\", str(array[idx]) + \"; \" + \"Profit:\", str(profit))\n",
        "      self.print(array, idx+1)\n",
        "\n",
        "  def calcProfit(self,investment):\n",
        "    if investment > 100000:\n",
        "      return 8+self.calcProfit(investment-100)\n",
        "    elif investment <= 100000 and investment > 25000:\n",
        "      return 4.5+self.calcProfit(investment-100)\n",
        "    else:\n",
        "      return 0\n",
        "\n",
        "\n",
        "#Tester \n",
        "array=[25000,100000,250000,350000] \n",
        "f = FinalQ() \n",
        "f.print(array,0)"
      ],
      "metadata": {
        "colab": {
          "base_uri": "https://localhost:8080/"
        },
        "id": "eFY7o9ad1_16",
        "outputId": "50d4fd17-c4d8-4d18-c384-f2bf83c77932"
      },
      "execution_count": 2,
      "outputs": [
        {
          "output_type": "stream",
          "name": "stdout",
          "text": [
            "Investment: 25000; Profit: 0\n",
            "Investment: 100000; Profit: 3375.0\n",
            "Investment: 250000; Profit: 15375.0\n",
            "Investment: 350000; Profit: 23375.0\n"
          ]
        }
      ]
    }
  ]
}