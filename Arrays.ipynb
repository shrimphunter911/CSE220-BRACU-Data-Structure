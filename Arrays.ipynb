{
  "nbformat": 4,
  "nbformat_minor": 0,
  "metadata": {
    "colab": {
      "provenance": [],
      "collapsed_sections": []
    },
    "kernelspec": {
      "name": "python3",
      "display_name": "Python 3"
    },
    "language_info": {
      "name": "python"
    }
  },
  "cells": [
    {
      "cell_type": "markdown",
      "source": [
        "**Insert into array**"
      ],
      "metadata": {
        "id": "lTz5XFv05jUE"
      }
    },
    {
      "cell_type": "code",
      "execution_count": null,
      "metadata": {
        "colab": {
          "base_uri": "https://localhost:8080/"
        },
        "id": "hGT3k9isdflf",
        "outputId": "4e689c13-3ec4-4300-bb92-0bbf61f64240"
      },
      "outputs": [
        {
          "output_type": "execute_result",
          "data": {
            "text/plain": [
              "[10, 20, 200, 30, 40, 50, 0, 0]"
            ]
          },
          "metadata": {},
          "execution_count": 5
        }
      ],
      "source": [
        "def insert(s, index, value, size):\n",
        "  if (size == len(s)):\n",
        "    print('No space in array')\n",
        "    return\n",
        "  if (index < 0 or index > size):\n",
        "    print('Wrong index!')\n",
        "    return\n",
        "  for i in range(size-1, -1, -1):\n",
        "    if i != index:\n",
        "      s[i+1] = s[i]\n",
        "    else:\n",
        "      s[i+1] = s[i]\n",
        "      s[i] = value\n",
        "      break\n",
        "  return s\n",
        "\n",
        "source = [10, 20, 30, 40, 50, 0, 0, 0]\n",
        "insert(source, 2, 200, 5)"
      ]
    },
    {
      "cell_type": "markdown",
      "source": [
        "**Reverse in place using while**"
      ],
      "metadata": {
        "id": "akbysxuc5ctB"
      }
    },
    {
      "cell_type": "code",
      "source": [
        "def reverse(s):\n",
        "  j = len(s)-1\n",
        "  i = 0\n",
        "  while (i<j):\n",
        "    temp = s[j]\n",
        "    s[j] = s[i]\n",
        "    s[i] = temp\n",
        "    i = i+1\n",
        "    j = j-1\n",
        "  return s\n",
        "\n",
        "source = [60, 50, 40, 30, 20, 10]\n",
        "reverse(source)"
      ],
      "metadata": {
        "colab": {
          "base_uri": "https://localhost:8080/"
        },
        "id": "l2t_Sq-RwHwa",
        "outputId": "e6c2347b-2776-4597-fd3c-e9302174bfaf"
      },
      "execution_count": null,
      "outputs": [
        {
          "output_type": "execute_result",
          "data": {
            "text/plain": [
              "[10, 20, 30, 40, 50, 60]"
            ]
          },
          "metadata": {},
          "execution_count": 19
        }
      ]
    },
    {
      "cell_type": "markdown",
      "source": [
        "**Reverse in place using for**"
      ],
      "metadata": {
        "id": "oRtC5JZ05Wpw"
      }
    },
    {
      "cell_type": "code",
      "source": [
        "def reverse(s):\n",
        "  j = len(s)-1\n",
        "  x = (j/2)+1\n",
        "  for i in range(int(x)):\n",
        "    temp = s[j]\n",
        "    s[j] = s[i]\n",
        "    s[i] = temp\n",
        "    j = j-1\n",
        "  return s\n",
        "\n",
        "source = [50, 40, 30, 20, 10]\n",
        "reverse(source)"
      ],
      "metadata": {
        "colab": {
          "base_uri": "https://localhost:8080/"
        },
        "id": "hT-_dosk4cTd",
        "outputId": "f384ac19-3595-4e2b-fb39-a8df823a8613"
      },
      "execution_count": null,
      "outputs": [
        {
          "output_type": "execute_result",
          "data": {
            "text/plain": [
              "[10, 20, 30, 40, 50]"
            ]
          },
          "metadata": {},
          "execution_count": 24
        }
      ]
    },
    {
      "cell_type": "markdown",
      "source": [
        "**Right Rotate by 1**"
      ],
      "metadata": {
        "id": "PdgSTxpVRQoW"
      }
    },
    {
      "cell_type": "code",
      "source": [
        "def rightRotate(s):\n",
        "  i = len(s)-1\n",
        "  x = s[len(s)-1]\n",
        "  while i > 0 :\n",
        "    s[i] = s[i-1]\n",
        "    i -= 1\n",
        "  s[0] = x\n",
        "  return s\n",
        "\n",
        "source = [10, 20, 30, 40, 50, 60, 70]\n",
        "rightRotate(source)"
      ],
      "metadata": {
        "id": "T5EpphlvDZpx",
        "colab": {
          "base_uri": "https://localhost:8080/"
        },
        "outputId": "5920f5dd-e08f-401f-f85b-9cbf2130e1e8"
      },
      "execution_count": null,
      "outputs": [
        {
          "output_type": "execute_result",
          "data": {
            "text/plain": [
              "[70, 10, 20, 30, 40, 50, 60]"
            ]
          },
          "metadata": {},
          "execution_count": 4
        }
      ]
    },
    {
      "cell_type": "markdown",
      "source": [
        "**Right Rotate by k**"
      ],
      "metadata": {
        "id": "i12Tftj4RWVm"
      }
    },
    {
      "cell_type": "code",
      "source": [
        "def rightRotateByk(s, k):\n",
        "  for i in range(k):\n",
        "    j = len(s)-1\n",
        "    x = s[len(s)-1]\n",
        "    while j > 0:\n",
        "      s[j] = s[j-1]\n",
        "      j -= 1\n",
        "    s[0] = x\n",
        "  return s\n",
        "\n",
        "source = [10, 20, 30, 40, 50, 60, 70]\n",
        "rightRotateByk(source, 3)"
      ],
      "metadata": {
        "colab": {
          "base_uri": "https://localhost:8080/"
        },
        "id": "iEgmgn0VHWt2",
        "outputId": "acd5252e-97e8-4bed-ba24-9520ea26b64d"
      },
      "execution_count": null,
      "outputs": [
        {
          "output_type": "execute_result",
          "data": {
            "text/plain": [
              "[50, 60, 70, 10, 20, 30, 40]"
            ]
          },
          "metadata": {},
          "execution_count": 6
        }
      ]
    },
    {
      "cell_type": "markdown",
      "source": [
        "**Removing from a certain index**"
      ],
      "metadata": {
        "id": "WFOZPO6mReHN"
      }
    },
    {
      "cell_type": "code",
      "source": [
        "def remove(s, index, size):\n",
        "  if (size == len(s)):\n",
        "    print('No space in array')\n",
        "    return\n",
        "  if (index < 0 or index > size):\n",
        "    print('Wrong index!')\n",
        "    return\n",
        "  for i in range(index, len(s)-1):\n",
        "    if i < len(s)-2:\n",
        "      s[i] = s[i+1]\n",
        "    else:\n",
        "      s[i] = 0\n",
        "  return s\n",
        "\n",
        "source = [10, 20, 30, 40, 50, 0, 0, 0]\n",
        "remove(source, 2, 5)"
      ],
      "metadata": {
        "colab": {
          "base_uri": "https://localhost:8080/"
        },
        "id": "zpwCu8FQOu2n",
        "outputId": "c172e944-a6d6-4bb9-9eeb-79eccc9e4bac"
      },
      "execution_count": null,
      "outputs": [
        {
          "output_type": "execute_result",
          "data": {
            "text/plain": [
              "[10, 20, 40, 50, 0, 0, 0, 0]"
            ]
          },
          "metadata": {},
          "execution_count": 7
        }
      ]
    },
    {
      "cell_type": "markdown",
      "source": [
        "**Circular Reverse Traverse**"
      ],
      "metadata": {
        "id": "nmQjbs9Got9l"
      }
    },
    {
      "cell_type": "code",
      "source": [
        "def circularTraverseRev(s, start, size):\n",
        "  start = (start + size) % len(s) - 1\n",
        "  for i in range(size):\n",
        "    print(s[start])\n",
        "    start -= 1\n",
        "\n",
        "source = [0,0,60,70,10,20,30,40,50]\n",
        "circularTraverseRev(source,2,7)"
      ],
      "metadata": {
        "colab": {
          "base_uri": "https://localhost:8080/"
        },
        "id": "vIXD7j3_dcB1",
        "outputId": "532a825b-0fea-41af-ef1b-1fe31c506606"
      },
      "execution_count": null,
      "outputs": [
        {
          "output_type": "stream",
          "name": "stdout",
          "text": [
            "50\n",
            "40\n",
            "30\n",
            "20\n",
            "10\n",
            "70\n",
            "60\n"
          ]
        }
      ]
    },
    {
      "cell_type": "markdown",
      "source": [
        "**Circular Forward Traverse**"
      ],
      "metadata": {
        "id": "9I7Jj7JLo05k"
      }
    },
    {
      "cell_type": "code",
      "source": [
        "def circularTraverse(s, start, size):\n",
        "  for i in range(size):\n",
        "    print(s[start])\n",
        "    start = (start + 1) % len(s)\n",
        "\n",
        "source = [60,70,0,10,20,30,40,50]\n",
        "circularTraverse(source,3,7)"
      ],
      "metadata": {
        "colab": {
          "base_uri": "https://localhost:8080/"
        },
        "id": "9gbFHdGUnSOF",
        "outputId": "4f232c67-576f-4856-8e1f-9a5bed4f6ba6"
      },
      "execution_count": null,
      "outputs": [
        {
          "output_type": "stream",
          "name": "stdout",
          "text": [
            "10\n",
            "20\n",
            "30\n",
            "40\n",
            "50\n",
            "60\n",
            "70\n"
          ]
        }
      ]
    },
    {
      "cell_type": "markdown",
      "source": [
        "**Convert linear to circular**"
      ],
      "metadata": {
        "id": "IafnCsnun0Sa"
      }
    },
    {
      "cell_type": "code",
      "source": [
        "def createCircular(s, start, size):\n",
        "  circle = [0]*len(s)\n",
        "  for i in range(size):\n",
        "    circle[start] = s[i]\n",
        "    start = (start + 1) % len(s)\n",
        "  return circle\n",
        "\n",
        "source = [10, 20, 30, 40, 50, 60, 0, 0, 0, 0]\n",
        "cl = createCircular(source, 8, 6)\n",
        "print(cl)"
      ],
      "metadata": {
        "colab": {
          "base_uri": "https://localhost:8080/"
        },
        "id": "14D8Iy1KgvSm",
        "outputId": "c6d93628-3f7a-4d9a-a60a-7a8019949069"
      },
      "execution_count": null,
      "outputs": [
        {
          "output_type": "stream",
          "name": "stdout",
          "text": [
            "[30, 40, 50, 60, 0, 0, 0, 0, 10, 20]\n"
          ]
        }
      ]
    },
    {
      "cell_type": "markdown",
      "source": [
        "**Resizing len of circular array**"
      ],
      "metadata": {
        "id": "PjPw3MDOn5At"
      }
    },
    {
      "cell_type": "code",
      "source": [
        "def resize(s, start, size, n):\n",
        "  resized = [0]*(len(s)+n)\n",
        "  startre = start\n",
        "  for i in range(size):\n",
        "    resized[startre] = s[start]\n",
        "    startre = (startre + 1) % len(resized)\n",
        "    start = (start + 1) % len(s)\n",
        "  return resized\n",
        "\n",
        "source = [20,30,40,50,10]\n",
        "re = resize(source, 4, 5, 2)\n",
        "print(re)"
      ],
      "metadata": {
        "colab": {
          "base_uri": "https://localhost:8080/"
        },
        "id": "gqByRrLallDp",
        "outputId": "0fbc6cd8-4d1b-4a0a-8ab5-bb6de70c8632"
      },
      "execution_count": null,
      "outputs": [
        {
          "output_type": "stream",
          "name": "stdout",
          "text": [
            "[40, 50, 0, 0, 10, 20, 30]\n"
          ]
        }
      ]
    },
    {
      "cell_type": "markdown",
      "source": [
        "**Insert into circular array using slice**"
      ],
      "metadata": {
        "id": "youo6rl2yO9Z"
      }
    },
    {
      "cell_type": "code",
      "source": [
        "def circularinsert(s, start, size, value):\n",
        "  if size < len(s):\n",
        "    index = (start + size) % len(s)\n",
        "    s[index] = value\n",
        "  else:\n",
        "    index = (start + size) % len(s)\n",
        "    pt1 = s[0:index]\n",
        "    pt2 = s[index:len(s)]\n",
        "    pt1.append(value)\n",
        "    s = pt1 + pt2\n",
        "  size += 1\n",
        "  return s\n",
        "\n",
        "source = [20,30,40,50,10]\n",
        "new = circularinsert(source, 4, 5, 60)\n",
        "print(new)"
      ],
      "metadata": {
        "colab": {
          "base_uri": "https://localhost:8080/"
        },
        "id": "6ncYLIkwq_ux",
        "outputId": "a4a65df7-e180-437e-9798-4482496ff0a5"
      },
      "execution_count": null,
      "outputs": [
        {
          "output_type": "stream",
          "name": "stdout",
          "text": [
            "[20, 30, 40, 50, 60, 10]\n"
          ]
        }
      ]
    },
    {
      "cell_type": "markdown",
      "source": [
        "**Insert in between and certain index**"
      ],
      "metadata": {
        "id": "LDtMziWGybA0"
      }
    },
    {
      "cell_type": "code",
      "source": [
        "def insertinbetween(s, value, index, start, size):\n",
        "  if size < len(s):\n",
        "    temp = s[len(s)-1]\n",
        "    i = len(s)-1\n",
        "    while i > 0:\n",
        "      if i > index or i < start:\n",
        "        s[i] = s[i-1]\n",
        "      i -= 1\n",
        "    s[0] = temp\n",
        "    s[index] = value\n",
        "    size += 1\n",
        "    return s\n",
        "source = [50, 60, 0, 0, 10, 20, 30, 40]\n",
        "insertinbetween(source, 27, 6, 4, 6)"
      ],
      "metadata": {
        "id": "f5o-uLjvanrU",
        "colab": {
          "base_uri": "https://localhost:8080/"
        },
        "outputId": "a370e49c-a4a4-4393-966f-034c42bc9a00"
      },
      "execution_count": null,
      "outputs": [
        {
          "output_type": "execute_result",
          "data": {
            "text/plain": [
              "[40, 50, 60, 0, 10, 20, 27, 30]"
            ]
          },
          "metadata": {},
          "execution_count": 47
        }
      ]
    },
    {
      "cell_type": "markdown",
      "source": [
        "**Shift Left by k**"
      ],
      "metadata": {
        "id": "O8EBaY7d2iWz"
      }
    },
    {
      "cell_type": "code",
      "source": [
        "def shiftLeft(source, k):\n",
        "  m = len(source)-1\n",
        "  for i in range (k):\n",
        "    j = 0\n",
        "    while (j<len(source)-1):\n",
        "      source[j] = source[j+1]\n",
        "      j += 1\n",
        "    source[m] = 0\n",
        "    m -= 1\n",
        "  return source\n",
        "\n",
        "source = [10,20,30,40,50,60]\n",
        "shiftLeft(source, 3)"
      ],
      "metadata": {
        "colab": {
          "base_uri": "https://localhost:8080/"
        },
        "id": "G3tJk7a7pmLz",
        "outputId": "32874304-2ec8-4d98-ee42-331187bedf99"
      },
      "execution_count": null,
      "outputs": [
        {
          "output_type": "execute_result",
          "data": {
            "text/plain": [
              "[40, 50, 60, 0, 0, 0]"
            ]
          },
          "metadata": {},
          "execution_count": 4
        }
      ]
    },
    {
      "cell_type": "markdown",
      "source": [
        "**Rotate Left by k**"
      ],
      "metadata": {
        "id": "Ko26NWjQ2rbx"
      }
    },
    {
      "cell_type": "code",
      "source": [
        "def rotateLeft(source, k):\n",
        "  for i in range(k):\n",
        "    x = source[0]\n",
        "    j = 0\n",
        "    while (j<len(source)-1):\n",
        "      source[j] = source[j+1]\n",
        "      j += 1\n",
        "    source[len(source)-1] = x\n",
        "  return source\n",
        "\n",
        "source = [10,20,30,40,50,60]\n",
        "rotateLeft(source, 3)"
      ],
      "metadata": {
        "colab": {
          "base_uri": "https://localhost:8080/"
        },
        "id": "SaTlWNJlswT0",
        "outputId": "204d4909-f4a2-4a0d-d007-f9b0b05846fe"
      },
      "execution_count": null,
      "outputs": [
        {
          "output_type": "execute_result",
          "data": {
            "text/plain": [
              "[40, 50, 60, 10, 20, 30]"
            ]
          },
          "metadata": {},
          "execution_count": 6
        }
      ]
    },
    {
      "cell_type": "markdown",
      "source": [
        "**Remove from certain index**"
      ],
      "metadata": {
        "id": "FsZ1Xq2M20rJ"
      }
    },
    {
      "cell_type": "code",
      "source": [
        "def remove(source, size, idx):\n",
        "  for i in range(idx, len(source)-1):\n",
        "    source[i] = source[i+1]\n",
        "  return source\n",
        "\n",
        "source=[10,20,30,40,50,0,0]\n",
        "remove(source,5,2)"
      ],
      "metadata": {
        "colab": {
          "base_uri": "https://localhost:8080/"
        },
        "id": "ki6XGKzEt60d",
        "outputId": "cc4f6122-5bfa-4361-ba29-72012ceb56e6"
      },
      "execution_count": null,
      "outputs": [
        {
          "output_type": "execute_result",
          "data": {
            "text/plain": [
              "[10, 20, 40, 50, 0, 0, 0]"
            ]
          },
          "metadata": {},
          "execution_count": 7
        }
      ]
    },
    {
      "cell_type": "markdown",
      "source": [
        "**Remove particular Occurrence**"
      ],
      "metadata": {
        "id": "B_YXU6RE3ByP"
      }
    },
    {
      "cell_type": "code",
      "source": [
        "def removeAll(source, size, element):\n",
        "  i = 0\n",
        "  while i < len(source):\n",
        "    if source[i] == element:\n",
        "      j = i\n",
        "      i -= 1\n",
        "      while (j<len(source)-1):\n",
        "        source[j] = source[j+1]\n",
        "        j += 1\n",
        "    i += 1\n",
        "  return source\n",
        "\n",
        "source=[10,2,30,2,50,2,2,60,0,0]\n",
        "removeAll(source,8,2)"
      ],
      "metadata": {
        "colab": {
          "base_uri": "https://localhost:8080/"
        },
        "id": "-h9-3mZswJTb",
        "outputId": "5999447e-fd65-407e-9de2-0805f5c5c5ea"
      },
      "execution_count": null,
      "outputs": [
        {
          "output_type": "execute_result",
          "data": {
            "text/plain": [
              "[10, 30, 50, 60, 0, 0, 0, 0, 0, 0]"
            ]
          },
          "metadata": {},
          "execution_count": 1
        }
      ]
    },
    {
      "cell_type": "markdown",
      "source": [
        "**Splitting and check equality**"
      ],
      "metadata": {
        "id": "ue3nQjEx3IQH"
      }
    },
    {
      "cell_type": "code",
      "source": [
        "def rightBiased(source):\n",
        "  x = int(len(source)/2)\n",
        "  a = 0\n",
        "  for i in range(x):\n",
        "    a += source[i]\n",
        "  b = 0\n",
        "  for j in range(x, len(source)):\n",
        "    b += source[j]\n",
        "  if a==b:\n",
        "    return True\n",
        "  else:\n",
        "    return False\n",
        "\n",
        "def leftBiased(source):\n",
        "  x = int((len(source)/2)+1)\n",
        "  a = 0\n",
        "  for i in range(x):\n",
        "    a += source[i]\n",
        "  b = 0\n",
        "  for j in range(x, len(source)):\n",
        "    b += source[j]\n",
        "  if a==b:\n",
        "    return True\n",
        "  else:\n",
        "    return False\n",
        "\n",
        "def splitArray(source):\n",
        "  if leftBiased(source) or rightBiased(source):\n",
        "    return True\n",
        "  else:\n",
        "    return False\n",
        "\n",
        "source = [1, 1, 1, 2, 1]\n",
        "splitArray(source)"
      ],
      "metadata": {
        "colab": {
          "base_uri": "https://localhost:8080/"
        },
        "id": "2BeIvQHAHc0E",
        "outputId": "a80458f7-a0d8-49a9-8dc5-ac07ea2209dc"
      },
      "execution_count": null,
      "outputs": [
        {
          "output_type": "execute_result",
          "data": {
            "text/plain": [
              "True"
            ]
          },
          "metadata": {},
          "execution_count": 14
        }
      ]
    },
    {
      "cell_type": "markdown",
      "source": [
        "**Series of n**"
      ],
      "metadata": {
        "id": "WDBrqKfX3T8p"
      }
    },
    {
      "cell_type": "code",
      "source": [
        "def arraySeries(n):\n",
        "  l = [[0]*n for i in range(n)]\n",
        "  for j in range(len(l)):\n",
        "    m = -1\n",
        "    for k in range(j+1):\n",
        "      l[j][m] = k+1\n",
        "      m -= 1\n",
        "  return l\n",
        "\n",
        "arraySeries(3)"
      ],
      "metadata": {
        "colab": {
          "base_uri": "https://localhost:8080/"
        },
        "id": "ZrOwk7qdmsuP",
        "outputId": "cdb5a92b-ad21-466e-9749-cbf43b03e6bb"
      },
      "execution_count": null,
      "outputs": [
        {
          "output_type": "execute_result",
          "data": {
            "text/plain": [
              "[[0, 0, 1], [0, 2, 1], [3, 2, 1]]"
            ]
          },
          "metadata": {},
          "execution_count": 14
        }
      ]
    },
    {
      "cell_type": "markdown",
      "source": [
        "**Counting max bunch**"
      ],
      "metadata": {
        "id": "TYm2AgYU3cGm"
      }
    },
    {
      "cell_type": "code",
      "source": [
        "def maxBunchCount(source):\n",
        "  max = 0\n",
        "  elem = 0\n",
        "  c = 0\n",
        "  for i in range(len(source)):\n",
        "    if source[i] != elem:\n",
        "      c = 1\n",
        "      elem = source[i]\n",
        "    else:\n",
        "      c += 1\n",
        "      if c >= max:\n",
        "        max = c\n",
        "  return max\n",
        "\n",
        "source = [1, 2, 2, 3, 4, 4, 4]\n",
        "maxBunchCount(source)"
      ],
      "metadata": {
        "colab": {
          "base_uri": "https://localhost:8080/"
        },
        "id": "aYJtHDCzmgy3",
        "outputId": "d3e7c4c9-3a2a-4a75-9fb3-350a51db19b3"
      },
      "execution_count": null,
      "outputs": [
        {
          "output_type": "execute_result",
          "data": {
            "text/plain": [
              "3"
            ]
          },
          "metadata": {},
          "execution_count": 16
        }
      ]
    },
    {
      "cell_type": "markdown",
      "source": [
        "**Repetition Check**"
      ],
      "metadata": {
        "id": "k017cVoA3h24"
      }
    },
    {
      "cell_type": "code",
      "source": [
        "def repeat(source):\n",
        "  dic = {}\n",
        "  for i in range(len(source)):\n",
        "    if source[i] not in dic.keys():\n",
        "      dic[source[i]] = 0\n",
        "      j = i\n",
        "      while(j<len(source)):\n",
        "        if source[j] == source[i]:\n",
        "          dic[source[i]] += 1\n",
        "        j += 1\n",
        "  \n",
        "  l = []\n",
        "  for i in dic.values():\n",
        "    if i > 1:\n",
        "      l.append(i)\n",
        "  \n",
        "  for i in range(len(l)-1):\n",
        "    if l[i] == l[i+1]:\n",
        "      return True\n",
        "      break\n",
        "    else:\n",
        "      return False\n",
        "\n",
        "source = [4,5,6,6,4,3,6,4]\n",
        "repeat(source)"
      ],
      "metadata": {
        "colab": {
          "base_uri": "https://localhost:8080/"
        },
        "id": "8Ni67xZXqLF9",
        "outputId": "9d60e0c6-c505-42f2-c06f-6862c7194c40"
      },
      "execution_count": null,
      "outputs": [
        {
          "output_type": "execute_result",
          "data": {
            "text/plain": [
              "True"
            ]
          },
          "metadata": {},
          "execution_count": 8
        }
      ]
    },
    {
      "cell_type": "markdown",
      "source": [
        "**Circular Palindrome**"
      ],
      "metadata": {
        "id": "EA-AQbMG3ws6"
      }
    },
    {
      "cell_type": "code",
      "source": [
        "def palindrome(source, start, size):\n",
        "  l = []\n",
        "  for i in range(size):\n",
        "    l.append(source[start])\n",
        "    start = (start + 1) % len(source)\n",
        "  x = int(len(l)/2)\n",
        "  pt1 = l[0:x]\n",
        "  pt2 = []\n",
        "  j = len(l)-1\n",
        "  if len(l)%2 == 0:\n",
        "    while (j>x-1):\n",
        "      pt2.append(l[j])\n",
        "      j -= 1\n",
        "  else:\n",
        "    while (j>x):\n",
        "      pt2.append(l[j])\n",
        "      j -=1\n",
        "  if pt1 == pt2:\n",
        "    return True\n",
        "  else:\n",
        "    return False\n",
        "\n",
        "source = [10,20,0,0,0,10,20,30]\n",
        "palindrome(source, 5, 5)"
      ],
      "metadata": {
        "colab": {
          "base_uri": "https://localhost:8080/"
        },
        "id": "fwtKdsElFnzc",
        "outputId": "d97443a5-bcb0-4858-db19-78e4ba70a0d8"
      },
      "execution_count": null,
      "outputs": [
        {
          "output_type": "execute_result",
          "data": {
            "text/plain": [
              "False"
            ]
          },
          "metadata": {},
          "execution_count": 22
        }
      ]
    },
    {
      "cell_type": "markdown",
      "source": [
        "**Common elements**"
      ],
      "metadata": {
        "id": "gcmM8jL0347T"
      }
    },
    {
      "cell_type": "code",
      "source": [
        "def intersection(ca1, ca2, start_1, size_1, start_2, size_2):\n",
        "  l = []\n",
        "  for i in range(size_1):\n",
        "    turn = start_2\n",
        "    for j in range(size_2):\n",
        "      if ca1[start_1] == ca2[turn]:\n",
        "        l.append(ca2[turn])\n",
        "      turn = (turn+1) % len(ca2)\n",
        "    start_1 = (start_1+1) % len(ca1)\n",
        "  return l\n",
        "\n",
        "ca1 = [40,50,0,0,0,10,20,30]\n",
        "ca2 = [10,20,5,0,0,0,0,0,5,40,15,25]\n",
        "start_1 = 5\n",
        "start_2 = 8\n",
        "size_1 = 5\n",
        "size_2 = 7\n",
        "intersection(ca1, ca2, start_1, size_1, start_2, size_2)"
      ],
      "metadata": {
        "colab": {
          "base_uri": "https://localhost:8080/"
        },
        "id": "vFJ4qf0k9dul",
        "outputId": "c334aeec-62cd-4ced-b0c3-dee2696a9a50"
      },
      "execution_count": null,
      "outputs": [
        {
          "output_type": "execute_result",
          "data": {
            "text/plain": [
              "[10, 20, 40]"
            ]
          },
          "metadata": {},
          "execution_count": 43
        }
      ]
    },
    {
      "cell_type": "markdown",
      "source": [
        "**Musical Chair Game**"
      ],
      "metadata": {
        "id": "0eN2onzW4DBc"
      }
    },
    {
      "cell_type": "code",
      "source": [
        "import random\n",
        "def musicChair(source):\n",
        "  while(len(source)>1):\n",
        "    x = random.randrange(4)\n",
        "    \n",
        "    if x != 1:\n",
        "      i = len(source) - 1\n",
        "      t = source[i]\n",
        "      while (i>0):\n",
        "        source[i] = source[i-1]\n",
        "        i -= 1\n",
        "      source[0] = t\n",
        "      print(x)\n",
        "      print(source)\n",
        "    else:\n",
        "      i = int(len(source)/2) - 1\n",
        "      source.pop(i)\n",
        "      print(x)\n",
        "      print(source)\n",
        "\n",
        "source = ['x', 'y', 'z', 'a', 'b', 'c', 'd']\n",
        "musicChair(source)"
      ],
      "metadata": {
        "colab": {
          "base_uri": "https://localhost:8080/"
        },
        "id": "Ow23ooofj07V",
        "outputId": "30a0d343-6446-4cdf-a485-3713c93a310a"
      },
      "execution_count": 23,
      "outputs": [
        {
          "output_type": "stream",
          "name": "stdout",
          "text": [
            "1\n",
            "['x', 'y', 'a', 'b', 'c', 'd']\n",
            "2\n",
            "['d', 'x', 'y', 'a', 'b', 'c']\n",
            "1\n",
            "['d', 'x', 'a', 'b', 'c']\n",
            "3\n",
            "['c', 'd', 'x', 'a', 'b']\n",
            "1\n",
            "['c', 'x', 'a', 'b']\n",
            "2\n",
            "['b', 'c', 'x', 'a']\n",
            "0\n",
            "['a', 'b', 'c', 'x']\n",
            "0\n",
            "['x', 'a', 'b', 'c']\n",
            "2\n",
            "['c', 'x', 'a', 'b']\n",
            "2\n",
            "['b', 'c', 'x', 'a']\n",
            "0\n",
            "['a', 'b', 'c', 'x']\n",
            "3\n",
            "['x', 'a', 'b', 'c']\n",
            "1\n",
            "['x', 'b', 'c']\n",
            "0\n",
            "['c', 'x', 'b']\n",
            "0\n",
            "['b', 'c', 'x']\n",
            "1\n",
            "['c', 'x']\n",
            "0\n",
            "['x', 'c']\n",
            "0\n",
            "['c', 'x']\n",
            "1\n",
            "['x']\n"
          ]
        }
      ]
    }
  ]
}